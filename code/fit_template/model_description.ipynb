{
 "cells": [
  {
   "cell_type": "markdown",
   "metadata": {},
   "source": [
    "# Model Description\n",
    "\n",
    "This notebook describes the creation of the RR Lyrae model. For usage examples see the `demo_R.ipynb` and `demo_python.ipynb` notebooks."
   ]
  },
  {
   "cell_type": "markdown",
   "metadata": {},
   "source": [
    "## Model Form\n",
    "\n",
    "The form for the RR Lyrae model is\n",
    "$$ m_b(t) = \\mu + M_b(\\omega) + E[B-V]R_b + a \\gamma_b(\\omega t + \\phi)$$\n",
    "where the population parameters, common to all RR Lyrae, are:\n",
    "\\begin{align*}\n",
    "  M_b(\\omega) &= \\text{ ab. magnitude in band b for an RR Lyrae with frequency } \\omega\\\\\n",
    "  R_b &= \\text{extinction law in band b}\\\\\n",
    "  \\gamma_b &= \\text{the shape of the RR Lyrae light curve in band b}\n",
    "\\end{align*}\n",
    "\n",
    "The object specific parameters, different for each RR Lyrae, are\n",
    "\\begin{align*}\n",
    "  \\mu &= \\text{distance modulus}\\\\\n",
    "  E[B-V] &= \\text{amount of dust}\\\\\n",
    "  a &= \\text{amplitude}\\\\\n",
    "  \\omega &= \\text{frequency}\\\\\n",
    "  \\phi &= \\text{ phase}\n",
    "\\end{align*}\n",
    "\n",
    "For one RR Lyrae we observe photometry $\\{\\{t_{bi},m_{bi},\\sigma_{bi}\\}_{i=1}^{n_b}\\}_{b=1}^B$ where $m_{bi}$ is the observed magnitude at time $t_{bi}$ in filter $b$ measured with (known) uncertainty $\\sigma_{bi}$. The bands are indexed $1,\\ldots,B$ instead of typical letters e.g. ugriz. The model and data are related by\n",
    "$$m_{bi} = m_b(t_{bi}) + \\epsilon_{bi}$$\n",
    "where $\\epsilon_{bi} \\sim N(0,\\sigma_{bi}^2)$. More generally we could view $\\epsilon_{bi}$ as a mean $0$ random variable with $Var(\\epsilon_{bi}) = \\sigma_{bi}^2$. We discuss these modeling asssumptions in more detail in the Estimating Object Parameters section of this note.\n",
    "\n",
    "This model assumes all RR Lyrae share a common shape by band and that RR Lyrae are strictly periodic functions. These assumptions are an approximation. For example, RR Lyrae which undergo the Blazhko effect are not strictly periodic functions. Rather than construct a perfectly accurate model, the goal is to construct a model with few free parameters that provides a better approximation to RR Lyrae variation than existing methods. For example a simple sinusoid model fit to 5 filters has a total of 16 free parameters (5 means, 5 amplitude, 5 phases, and 1 frequency) while providing only a very rough approximation to the steep rise and slow decline in brighness observed in RR Lyrae light curves. In contrast this model provides a significantly better approximation while fitting for 5 free parameters (or 4 if light curves are dust corrected). We provide empirical evidence to support these claims in our results section. "
   ]
  },
  {
   "cell_type": "markdown",
   "metadata": {},
   "source": [
    "## Estimating Population Parameters"
   ]
  },
  {
   "cell_type": "markdown",
   "metadata": {},
   "source": [
    "We estimate the population parameters from theory and existing data sets. The file `code/make_template/make_template.R` in the rr-model repository contains code for doing this. Here we describe the process.\n",
    "\n",
    "\n",
    "\n",
    "Perhaps state the $R_b$, $M_b(\\omega)$ we use, without describing the process.\n",
    "\n",
    "Smooth light curves, phase align, mean 0, then solve for A and gamma.\n",
    "\n",
    "Discuss estimating model error. <strong data-cite=\"long2017\">(Long, 2017)</strong>\n"
   ]
  },
  {
   "cell_type": "code",
   "execution_count": null,
   "metadata": {
    "collapsed": true
   },
   "outputs": [],
   "source": []
  },
  {
   "cell_type": "markdown",
   "metadata": {},
   "source": [
    "## Estimating Object Parameters"
   ]
  },
  {
   "cell_type": "markdown",
   "metadata": {},
   "source": []
  },
  {
   "cell_type": "markdown",
   "metadata": {},
   "source": [
    "### References\n",
    "\n",
    "Long 2017. \"A note on parameter estimation for misspecified regression models with heteroskedastic errors.\" Electronic Journal of Statistics."
   ]
  },
  {
   "cell_type": "code",
   "execution_count": null,
   "metadata": {
    "collapsed": true
   },
   "outputs": [],
   "source": []
  }
 ],
 "metadata": {
  "kernelspec": {
   "display_name": "Python 3",
   "language": "python",
   "name": "python3"
  },
  "language_info": {
   "codemirror_mode": {
    "name": "ipython",
    "version": 3
   },
   "file_extension": ".py",
   "mimetype": "text/x-python",
   "name": "python",
   "nbconvert_exporter": "python",
   "pygments_lexer": "ipython3",
   "version": "3.5.2"
  }
 },
 "nbformat": 4,
 "nbformat_minor": 1
}
