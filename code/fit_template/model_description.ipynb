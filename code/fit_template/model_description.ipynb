{
 "cells": [
  {
   "cell_type": "markdown",
   "metadata": {},
   "source": [
    "# Model Description\n",
    "\n",
    "This notebook describes the creation of the RR Lyrae model. For usage examples see the `demo_R.ipynb` and `demo_python.ipynb` notebooks."
   ]
  },
  {
   "cell_type": "markdown",
   "metadata": {},
   "source": [
    "## Model Form\n",
    "\n",
    "The form for the RR Lyrae model is\n",
    "$$ m_b(t) = \\mu + M_b(\\omega) + E[B-V]R_b + a \\gamma_b(\\omega t + \\phi)$$\n",
    "where the population parameters, common to all RR Lyrae, are:\n",
    "\\begin{align*}\n",
    "  M_b(\\omega) &= \\text{ ab. magnitude in band b for an RR Lyrae with frequency } \\omega\\\\\n",
    "  R_b &= \\text{extinction law in band b}\\\\\n",
    "  \\gamma_b &= \\text{the shape of the RR Lyrae light curve in band b}\n",
    "\\end{align*}\n",
    "\n",
    "The object specific parameters, different for each RR Lyrae, are\n",
    "\\begin{align*}\n",
    "  \\mu &= \\text{distance modulus}\\\\\n",
    "  E[B-V] &= \\text{amount of dust}\\\\\n",
    "  a &= \\text{amplitude}\\\\\n",
    "  \\omega &= \\text{frequency}\\\\\n",
    "  \\phi &= \\text{ phase}\n",
    "\\end{align*}\n",
    "\n",
    "For one RR Lyrae we observe photometry $\\{\\{t_{bi},m_{bi},\\sigma_{bi}\\}_{i=1}^{n_b}\\}_{b=1}^B$ where $m_{bi}$ is the observed magnitude at time $t_{bi}$ in filter $b$ measured with (known) uncertainty $\\sigma_{bi}$. The bands are indexed $1,\\ldots,B$ instead of typical letters e.g. ugriz. The model and data are related by\n",
    "$$m_{bi} = m_b(t_{bi}) + \\epsilon_{bi}$$\n",
    "where $\\epsilon_{bi} \\sim N(0,\\sigma_{bi}^2)$. More generally we could view $\\epsilon_{bi}$ as a mean $0$ random variable with $Var(\\epsilon_{bi}) = \\sigma_{bi}^2$. We discuss these modeling asssumptions in more detail in the Estimating Object Parameters section of this note.\n",
    "\n",
    "This model assumes all RR Lyrae share a common shape by band and that RR Lyrae are strictly periodic functions. These assumptions are an approximation. For example, RR Lyrae which undergo the Blazhko effect are not strictly periodic functions. Rather than construct a perfectly accurate model, the goal is to construct a model with few free parameters that provides a better approximation to RR Lyrae variation than existing methods. For example a simple sinusoid model fit to 5 filters has a total of 16 free parameters (5 means, 5 amplitudes, 5 phases, and 1 frequency) while providing only a very rough approximation to the steep rise and slow decline in brighness observed in RR Lyrae light curves. In contrast this model provides a significantly better approximation while fitting for 5 free parameters (or 4 if light curves are dust corrected). We provide empirical evidence to support these claims in our results section. "
   ]
  },
  {
   "cell_type": "markdown",
   "metadata": {},
   "source": [
    "## Estimating Population Parameters"
   ]
  },
  {
   "cell_type": "markdown",
   "metadata": {},
   "source": [
    "We estimate the population parameters from theory and existing data sets. The file:\n",
    "\n",
    "`code/make_template/make_template.R`\n",
    "\n",
    "in the rr-model repository contains code for doing this. Here we summarize the process and where the parameters are stored."
   ]
  },
  {
   "cell_type": "code",
   "execution_count": 83,
   "metadata": {
    "collapsed": true
   },
   "outputs": [],
   "source": [
    "## load libraries\n",
    "import numpy as np\n",
    "import rpy2.robjects as robjects\n",
    "from rpy2.robjects.vectors import IntVector, FloatVector, StrVector, BoolVector\n",
    "import rpy2.robjects.numpy2ri as rpyn\n",
    "import csv\n",
    "import matplotlib.pyplot as plt\n",
    "import matplotlib.patches as mpatches\n",
    "plt.style.use('ggplot')\n",
    "import itertools"
   ]
  },
  {
   "cell_type": "code",
   "execution_count": 84,
   "metadata": {
    "collapsed": false
   },
   "outputs": [
    {
     "data": {
      "text/plain": [
       "R object with classes: ('character',) mapped to:\n",
       "<StrVector - Python:0x7f79f66a8408 / R:0x311cd38>\n",
       "['tem_des']"
      ]
     },
     "execution_count": 84,
     "metadata": {},
     "output_type": "execute_result"
    }
   ],
   "source": [
    "## load templates\n",
    "r=robjects.r\n",
    "r.load(\"template_sdss.RData\") ## loads r.tem, see later code for usage\n",
    "r.load(\"template_des.RData\") ## loads r.tem, see later code for usage"
   ]
  },
  {
   "cell_type": "markdown",
   "metadata": {},
   "source": [
    "### $R_b$\n",
    "\n",
    "The extinction values $R_b$ are derived from <strong data-cite=\"fitzpatrick1999\">(Fitzpatrick, 199)</strong>. The extinction values $R_b$ for SDSS filters are:"
   ]
  },
  {
   "cell_type": "code",
   "execution_count": 85,
   "metadata": {
    "collapsed": false
   },
   "outputs": [
    {
     "name": "stdout",
     "output_type": "stream",
     "text": [
      "    g     i     r     u     z \n",
      "3.737 1.922 2.587 4.799 1.430 \n",
      "\n"
     ]
    }
   ],
   "source": [
    "print(r.tem_sdss[0])"
   ]
  },
  {
   "cell_type": "markdown",
   "metadata": {},
   "source": [
    "The extinction values $R_b$ for DES filters are:"
   ]
  },
  {
   "cell_type": "code",
   "execution_count": 86,
   "metadata": {
    "collapsed": false
   },
   "outputs": [
    {
     "name": "stdout",
     "output_type": "stream",
     "text": [
      "    g     i     r     Y     z \n",
      "3.665 1.804 2.464 1.196 1.380 \n",
      "\n"
     ]
    }
   ],
   "source": [
    "print(r.tem_des[0])"
   ]
  },
  {
   "cell_type": "markdown",
   "metadata": {},
   "source": [
    "Note that these values are only used if the templates are fit with non-dust corrected light curves. In general it is better to fit with dust corrected lightcurves because the model has one fewer free parameter and uncertainty on distance is greatly reduced."
   ]
  },
  {
   "cell_type": "markdown",
   "metadata": {
    "collapsed": true
   },
   "source": [
    "### $M_b(\\omega)$"
   ]
  },
  {
   "cell_type": "markdown",
   "metadata": {},
   "source": [
    "Let $\\omega$ be the frequency in cyles / day and $p \\equiv 1/\\omega$. Then the period, absolute magnitude, metallicity relation is assumed to have the form:"
   ]
  },
  {
   "cell_type": "markdown",
   "metadata": {},
   "source": [
    "$$M_b(\\omega) = c_{0b} + p_{1b}(log_{10}(p) + 0.2) + p_{2b}(log_{10}(p) + 0.2)^2$$"
   ]
  },
  {
   "cell_type": "markdown",
   "metadata": {},
   "source": [
    "The $c$, $p_1$ and $p_2$ values for SDSS filters are:"
   ]
  },
  {
   "cell_type": "code",
   "execution_count": 87,
   "metadata": {
    "collapsed": false
   },
   "outputs": [
    {
     "name": "stdout",
     "output_type": "stream",
     "text": [
      "           g          i         r         u          z\n",
      "c0  0.767277  0.5045376  0.550479  1.888998  0.5098522\n",
      "p1  0.166900 -1.0649000 -0.637400 -0.049400 -1.3080000\n",
      "p2 -0.594600 -0.2020000 -0.352500 -0.319400 -0.2314000\n",
      "\n"
     ]
    }
   ],
   "source": [
    "print(r.tem_sdss[6])"
   ]
  },
  {
   "cell_type": "markdown",
   "metadata": {},
   "source": [
    "The $c$, $p_1$ and $p_2$ values for DES filters are:"
   ]
  },
  {
   "cell_type": "code",
   "execution_count": 88,
   "metadata": {
    "collapsed": false
   },
   "outputs": [
    {
     "name": "stdout",
     "output_type": "stream",
     "text": [
      "             g           i          r          Y          z\n",
      "c0  0.73033469  0.52237219  0.5422690  0.5581894  0.5201616\n",
      "p1 -0.01953460 -1.13561949 -0.7391363 -1.3923104 -1.2917459\n",
      "p2 -0.06459477 -0.05735716  0.9974928  0.6569855 -0.5347457\n",
      "\n"
     ]
    }
   ],
   "source": [
    "print(r.tem_des[6])"
   ]
  },
  {
   "cell_type": "markdown",
   "metadata": {
    "collapsed": true
   },
   "source": [
    "### $\\gamma_b(t)$\n",
    "\n",
    "The lightcurve shape in filter $b$ is a period $1$ function $\\gamma_b$. We use RR Lyrae found by <strong data-cite=\"sesar2010\">(Sesar, 2010)</strong> to estimate $\\gamma_b$ for the SDSS filters. We assume the same shapes for DES griz. We let the DES Y band shape equal the SDSS z band."
   ]
  },
  {
   "cell_type": "markdown",
   "metadata": {},
   "source": [
    "To infer the shape, we fold, phase align, smooth, and normalize to magnitude 0 all well sampled RR Lyrae in Sesar 2010. We sample each RR Lyrae on a grid in phase space. A single RR Lyrae becomes $X_{tb}$ where $t=1,\\ldots,T$, the grid on which the star is sampled in phase space and $b=1,\\ldots,B$, the number of filters.\n",
    "\n",
    "Let $X_{itb}$ be the magnitude for the $i^{th}$ RR Lyrae, at cycle phase $t$ in band $b$.  Let $\\gamma_b \\in \\mathbb{R}^T$ be the template in filter $b$. The template matrix is $\\Gamma = (\\gamma_1,\\ldots,\\gamma_B) \\in \\mathbb{R}^{T \\times B}$. Let $a \\in \\mathbb{R}^n$ be the amplitudes for the $n$ RR Lyrae. Let $X_{i\\cdot\\cdot} \\in \\mathbb{R}^{T \\times B}$ be the normalized photometry for RR Lyrae $i$. We solve the following optimization problem: "
   ]
  },
  {
   "cell_type": "markdown",
   "metadata": {},
   "source": [
    "$$\\min_{\\Gamma,a} \\sum_{i=1}^n ||X_{i\\cdot\\cdot} - a_i\\Gamma||_F^2$$"
   ]
  },
  {
   "cell_type": "markdown",
   "metadata": {},
   "source": [
    "subject to $||a||_2 = 1$ for identifiability. The resulting $\\Gamma$ matrix are the templates. We rescale the templates so the peak--to--peak g-band amplitude is $1$, i.e. if $c \\equiv \\max(\\gamma_g) - \\min(\\gamma_g)$, then $\\Gamma \\gets \\Gamma / c$."
   ]
  },
  {
   "cell_type": "markdown",
   "metadata": {},
   "source": [
    "The result are the following templates:"
   ]
  },
  {
   "cell_type": "code",
   "execution_count": 89,
   "metadata": {
    "collapsed": false
   },
   "outputs": [],
   "source": [
    "tem_sdss = np.array(r.tem_sdss[1])\n",
    "filter_names = list(r.tem_sdss[1].rownames)\n",
    "t = np.linspace(0.0,1.0,num=tem_sdss.shape[1],endpoint=False)"
   ]
  },
  {
   "cell_type": "code",
   "execution_count": 90,
   "metadata": {
    "collapsed": false
   },
   "outputs": [],
   "source": [
    "%matplotlib inline\n",
    "import matplotlib.pyplot as plt\n",
    "plt.style.use('ggplot')"
   ]
  },
  {
   "cell_type": "code",
   "execution_count": 91,
   "metadata": {
    "collapsed": true
   },
   "outputs": [],
   "source": [
    "cols = {'u': 'blue', 'g': 'green', 'r':'red', 'i':'violet', 'z':'black'}"
   ]
  },
  {
   "cell_type": "code",
   "execution_count": 92,
   "metadata": {
    "collapsed": false
   },
   "outputs": [
    {
     "data": {
      "image/png": "[encoded data removed]",
      "text/plain": [
       "<matplotlib.figure.Figure at 0x7f79f66a7f98>"
      ]
     },
     "metadata": {},
     "output_type": "display_data"
    }
   ],
   "source": [
    "fig = plt.figure()\n",
    "ax = plt.axes()\n",
    "for ii in np.arange(len(filter_names)):\n",
    "    ax.plot(t, tem_sdss[ii,:],color=cols[filter_names[ii]])\n",
    "plt.ylim([np.max(tem_sdss),np.min(tem_sdss)])\n",
    "plt.xlabel(\"phase\")\n",
    "plt.ylabel(\"magnitude\");\n",
    "recs = []\n",
    "for i in cols.values():\n",
    "    recs.append(mpatches.Rectangle((0,0),1,1,fc=i))\n",
    "\n",
    "plt.legend(recs,cols.keys(),loc=3);"
   ]
  },
  {
   "cell_type": "markdown",
   "metadata": {
    "collapsed": true
   },
   "source": [
    "In the following section we describe how to fit the model with weighted least squares (\"minimum $\\chi^2$\"). Directly using the inverse of the observation uncertainties as weights is known to be suboptimal when the templates are an approximation, see <strong data-cite=\"long2017\">(Long, 2017)</strong>. We estimate a model error term $\\sigma_{me}$ which is then used in the least square fitting. To compute $\\sigma_{me}$, we fit the template to all well sampled RR Lyrae, compute the difference between the squared residuals and the squared photometric error $\\sigma^2_{bi}$. $\\sigma_{me}$ is the square root of the average of these differences. The value is:"
   ]
  },
  {
   "cell_type": "code",
   "execution_count": 93,
   "metadata": {
    "collapsed": false
   },
   "outputs": [
    {
     "name": "stdout",
     "output_type": "stream",
     "text": [
      "model_error\n",
      "         g          i          r          u          z \n",
      "0.05472967 0.05472967 0.05472967 0.05472967 0.05472967 \n",
      "\n"
     ]
    }
   ],
   "source": [
    "print(r.tem_sdss.names[8])\n",
    "print(r.tem_sdss[8])"
   ]
  },
  {
   "cell_type": "markdown",
   "metadata": {},
   "source": [
    "## Estimating Object Parameters\n",
    "\n",
    "Code for fitting the template to an individual RR Lyrae is available at\n",
    "\n",
    "`code/fit_template/fit_template.R`\n",
    "\n",
    "In particular the workhorse function\n",
    "\n",
    "`FitTemplate <- function(lc,omegas,tem,NN=5,use.errors=TRUE,use.dust=TRUE)`\n",
    "\n",
    "computes the residual sum of squares at every frequency in `omegas` for light curve `lc` and template `tem`. See the implementation demos (`demo_R.ipynb` and `demo_python.ipynb`) for more about the implementation. Here we describe the numerical algorithm behind the code."
   ]
  },
  {
   "cell_type": "markdown",
   "metadata": {},
   "source": [
    "The model is fit with least squares and a grid search across the frequency parameter $\\omega$. There are at most five free parameters $\\mu$, $E[B-V]$, $a$, $\\omega$, $\\phi$. The dust can be turned off in the fitting in which case $E[B-V]$ is set to $0$."
   ]
  },
  {
   "cell_type": "markdown",
   "metadata": {},
   "source": [
    "Define $m'_{bt}(\\omega) = m_{bt} - M_b(\\omega)$. At frequency $\\omega$ in the grid, we solve for the four parameters\n",
    "\n",
    "$$ \\min_{\\mu,E[B-V],a,\\phi} \\sum_{b,t} \\frac{(m'_{bt} - \\mu - E[B-V]R_b - a\\gamma_b(\\omega t_{bt} + \\phi))^2}{\\sigma_{bt}^2 + \\sigma_{me}^2}$$\n",
    "\n",
    "We use a block--relaxation method in which we alternative between minimizing across the $(\\mu,E[B-V],a)$ parameters and minimizing across the $\\phi$ parameter. At fixed $\\phi$, the model is linear in $(\\mu,E[B-V],a)$ so the minimization is nearly trivial. Sometimes the update will result in a negative amplitude. In this case, we do a random phase update in the next step (i.e. draw phase uniformly in [0,1]), rather than the Newton method described below.   "
   ]
  },
  {
   "cell_type": "markdown",
   "metadata": {},
   "source": [
    "Fixing $\\mu,E[B-V],a$, we cannot analytically solve for $\\phi$. Instead XXXX "
   ]
  },
  {
   "cell_type": "markdown",
   "metadata": {},
   "source": [
    "Consider using a newton like algorithm where\n",
    "\\begin{equation*}\n",
    "\\phi^{(m+1)} = \\phi^{(m)} - H(g)^{-1}(\\phi^{(m)})\\nabla(g)(\\phi^{(m)})\n",
    "\\end{equation*}\n",
    "We need to compute $H(g)$ and $\\nabla(g)$ (the first and second derivatives of $g$). We have\n",
    "\\begin{equation*}\n",
    "\\nabla(g) = \\frac{\\partial g}{\\partial \\phi} = - 2\\sum \\sum (m_{ib}' - \\gamma_{bi}(\\phi))\\gamma_{bi}'(\\phi).\n",
    "\\end{equation*}\n",
    "and\n",
    "\\begin{equation*}\n",
    "H(g) = \\frac{\\partial^2 g}{\\partial \\phi^2} = 2 \\sum \\sum \\left(\\gamma'_{bi}(\\phi)^2 - (m_{ib}' - \\gamma_{bi}(\\phi))\\gamma''_{bi}(\\phi)\\right)\n",
    "\\end{equation*}\n",
    "\n",
    "For phase registration, Ramsey and Silverman (Functional Data Analysis Second Edition) recommend droppgin the second term in $H(g)$ and using\n",
    "\\begin{equation*}\n",
    "H^*(g) = 2 \\sum \\sum \\gamma'_{bi}(\\phi)^2 \n",
    "\\end{equation*}\n",
    "instead.\n"
   ]
  },
  {
   "cell_type": "markdown",
   "metadata": {},
   "source": [
    "### References\n",
    "\n",
    "Fitzpatrick 1999. \"Correcting for the Effects of Interstellar Extinction.\" PASP\n",
    "\n",
    "Long 2017. \"A note on parameter estimation for misspecified regression models with heteroskedastic errors.\" Electronic Journal of Statistics.\n",
    "\n",
    "Sesar 2010. \"Light curve templates and galactic distribution of rr lyrae stars from sloan digital sky survey stripe 82.\" ApJ."
   ]
  }
 ],
 "metadata": {
  "kernelspec": {
   "display_name": "Python 3",
   "language": "python",
   "name": "python3"
  },
  "language_info": {
   "codemirror_mode": {
    "name": "ipython",
    "version": 3
   },
   "file_extension": ".py",
   "mimetype": "text/x-python",
   "name": "python",
   "nbconvert_exporter": "python",
   "pygments_lexer": "ipython3",
   "version": "3.5.2"
  }
 },
 "nbformat": 4,
 "nbformat_minor": 1
}
